{
  "nbformat": 4,
  "nbformat_minor": 0,
  "metadata": {
    "colab": {
      "provenance": [],
      "toc_visible": true,
      "authorship_tag": "ABX9TyPNn34xu0BsB2GYb+4PQ93D",
      "include_colab_link": true
    },
    "kernelspec": {
      "name": "python3",
      "display_name": "Python 3"
    },
    "language_info": {
      "name": "python"
    }
  },
  "cells": [
    {
      "cell_type": "markdown",
      "metadata": {
        "id": "view-in-github",
        "colab_type": "text"
      },
      "source": [
        "<a href=\"https://colab.research.google.com/github/avos12/kursAI/blob/main/Wprowadzenie_do_%C5%9Brodowiska.ipynb\" target=\"_parent\"><img src=\"https://colab.research.google.com/assets/colab-badge.svg\" alt=\"Open In Colab\"/></a>"
      ]
    },
    {
      "cell_type": "markdown",
      "source": [
        "##Podstawowe elementy języka python##\n"
      ],
      "metadata": {
        "id": "Gg4bL8z0YI4Z"
      }
    },
    {
      "cell_type": "markdown",
      "source": [
        "*W tym rozdziale przedstawimy podstawowe elementy składni języka Python*\n",
        "\n",
        "https://www.python.org/\n",
        "\n",
        "\n",
        "\n",
        "\n"
      ],
      "metadata": {
        "id": "hnA66aFpZv5J"
      }
    },
    {
      "cell_type": "markdown",
      "source": [
        "Omawiane elementy:\n",
        "\n",
        "\n",
        "\n",
        "1.   Zmienne\n",
        "\n",
        "\n",
        "---\n",
        "\n",
        "\n",
        "2.   Listy\n",
        "\n",
        "\n",
        "---\n",
        "\n",
        "3.    Pętle\n",
        "\n",
        "\n",
        "---\n",
        "\n",
        "4.    Słowniki i kroki\n",
        "\n",
        "\n",
        "---\n",
        "\n",
        "5.    Instrukcje warunkowe\n",
        "\n",
        "\n",
        "---\n",
        "\n",
        "6.    Funkcje\n",
        "\n",
        "\n",
        "---\n",
        "\n",
        "7.    Obsługa plików\n",
        "\n",
        "\n",
        "---\n",
        "8.    Obsługa wyjątków"
      ],
      "metadata": {
        "id": "ljh8yQvCbJM0"
      }
    }
  ]
}